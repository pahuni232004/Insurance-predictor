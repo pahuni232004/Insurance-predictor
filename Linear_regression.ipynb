{
  "cells": [
    {
      "cell_type": "code",
      "execution_count": 10,
      "metadata": {
        "id": "MBvl988vHL8f"
      },
      "outputs": [],
      "source": [
        "import numpy as np\n",
        "import matplotlib.pyplot as plt\n",
        "import sklearn\n",
        "from sklearn.linear_model import LinearRegression\n",
        "import pandas as pd\n",
        "import os\n",
        "from sklearn.model_selection import train_test_split\n",
        "from sklearn.metrics import r2_score, mean_absolute_error, mean_squared_error\n",
        "\n"
      ]
    },
    {
      "cell_type": "code",
      "execution_count": 11,
      "metadata": {
        "id": "cwyzENy3KqfI",
        "colab": {
          "base_uri": "https://localhost:8080/"
        },
        "outputId": "2fad1151-b5b9-4cae-a566-303a5945bbcf"
      },
      "outputs": [
        {
          "output_type": "stream",
          "name": "stdout",
          "text": [
            "Drive already mounted at /content/drive; to attempt to forcibly remount, call drive.mount(\"/content/drive\", force_remount=True).\n",
            "   age     sex     bmi  children smoker     region      charges\n",
            "0   19  female  27.900         0    yes  southwest  16884.92400\n",
            "1   18    male  33.770         1     no  southeast   1725.55230\n",
            "2   28    male  33.000         3     no  southeast   4449.46200\n",
            "3   33    male  22.705         0     no  northwest  21984.47061\n",
            "4   32    male  28.880         0     no  northwest   3866.85520\n"
          ]
        }
      ],
      "source": [
        "from google.colab import drive\n",
        "drive.mount(\"/content/drive\")\n",
        "data_dir='/content/drive/MyDrive/dataset/linear_regression'\n",
        "dataset_path = os.path.join(data_dir,\"insurance.csv\")\n",
        "df = pd.read_csv(dataset_path)\n",
        "print(df.head())"
      ]
    },
    {
      "cell_type": "markdown",
      "source": [],
      "metadata": {
        "id": "5j8OMr85Uz_a"
      }
    },
    {
      "cell_type": "code",
      "source": [
        "target='charges'\n",
        "n='region'\n",
        "x= df.drop(columns=[target,n])\n",
        "y= df[target]\n",
        "print(\"shape of x: \",x.shape)\n",
        "print(\"shape of y: \",y.shape)\n",
        "print(df.isnull().sum())\n",
        "print(df['sex'].unique())\n",
        "print(df['smoker'].unique())\n",
        "print(df['sex'].value_counts())\n",
        "print(df['smoker'].value_counts())\n",
        "en_data = pd.get_dummies(df, columns=['sex', 'smoker'])\n",
        "x = en_data.drop(columns=[target, n])\n",
        "x_train, x_test, y_train, y_test = train_test_split(x, y, random_state=0, train_size=0.75)\n",
        "print(x_train.shape)\n",
        "print(y_train.shape)\n",
        "print(x.shape)"
      ],
      "metadata": {
        "colab": {
          "base_uri": "https://localhost:8080/"
        },
        "id": "Mg-n4cxZ2muC",
        "outputId": "e3172811-536d-4875-a060-8ff2c006b523"
      },
      "execution_count": 12,
      "outputs": [
        {
          "output_type": "stream",
          "name": "stdout",
          "text": [
            "shape of x:  (1338, 5)\n",
            "shape of y:  (1338,)\n",
            "age         0\n",
            "sex         0\n",
            "bmi         0\n",
            "children    0\n",
            "smoker      0\n",
            "region      0\n",
            "charges     0\n",
            "dtype: int64\n",
            "['female' 'male']\n",
            "['yes' 'no']\n",
            "male      676\n",
            "female    662\n",
            "Name: sex, dtype: int64\n",
            "no     1064\n",
            "yes     274\n",
            "Name: smoker, dtype: int64\n",
            "(1003, 7)\n",
            "(1003,)\n",
            "(1338, 7)\n"
          ]
        }
      ]
    },
    {
      "cell_type": "code",
      "source": [
        "model = LinearRegression().fit(x_train,y_train)\n",
        "y_pred= model.predict(x_test)\n",
        "\n",
        "\n",
        "r_squared = r2_score(y_test, y_pred)\n",
        "mae = mean_absolute_error(y_test, y_pred)\n",
        "mse = mean_squared_error(y_test, y_pred)\n",
        "rmse = mean_squared_error(y_test, y_pred, squared=False)\n",
        "\n",
        "print(\"R-squared:\", r_squared)\n",
        "print(\"MAE:\", mae)\n",
        "print(\"MSE:\", mse)\n",
        "print(\"RMSE:\", rmse)\n"
      ],
      "metadata": {
        "id": "Pa38Ac6MU6k6",
        "colab": {
          "base_uri": "https://localhost:8080/"
        },
        "outputId": "989a69eb-ddfb-4269-8718-9358ade3ba54"
      },
      "execution_count": 13,
      "outputs": [
        {
          "output_type": "stream",
          "name": "stdout",
          "text": [
            "R-squared: 0.7952171980481992\n",
            "MAE: 3987.198650627586\n",
            "MSE: 32239880.65318694\n",
            "RMSE: 5678.017317091147\n"
          ]
        }
      ]
    }
  ],
  "metadata": {
    "colab": {
      "provenance": [],
      "gpuType": "T4"
    },
    "kernelspec": {
      "display_name": "Python 3",
      "name": "python3"
    },
    "language_info": {
      "name": "python"
    },
    "accelerator": "GPU"
  },
  "nbformat": 4,
  "nbformat_minor": 0
}